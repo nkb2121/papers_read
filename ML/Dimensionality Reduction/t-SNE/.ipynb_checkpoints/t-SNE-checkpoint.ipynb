{
 "cells": [
  {
   "cell_type": "markdown",
   "metadata": {},
   "source": [
    "# t-SNE \n",
    "\n",
    "## Introduction\n",
    "Given a collection of N high-dimensional objects x1, x2, .. xN, how can we get a feel for how these objects are arranged in the data space?\n",
    "t-SNE builds maps in which distances between points reflect the similarities in the data. \n",
    "\n",
    "Principal component analysis is typically used to reduce the dimensionality. However variance might not be a good reflection of similarity of the data. Thus enters the SNE. Previous techniques used include, isomap or locally linear embedding (preserving small pair-wise distances). \n",
    "\n",
    "t-SNE is an improvement over the locally linear embedding. \n",
    "\n",
    "## t-Distributed Stochastic Neighbor Embedding\n",
    "Measure the pairwise similarities between the high-dimensional objects :\n",
    "$$p_{ij} = \\frac{exp(-||x_i - x_j||^2 / 2\\sigma^2}{\\sum_{k}{\\sum_{l \\neq k}{exp(-||x_k-x_l||^2 / 2\\sigma^2}}}$$\n",
    "\n",
    "In practice, we compute the conditional distribution instead of join distribution. We set the bandwidth $$\\sigma_i$$ such that the conditional has a fixed perplexity\n",
    "\n",
    "$$p_{i|j} = \\frac{exp(-||x_i - x_j||^2 / 2\\sigma^2}{\\sum_{k}{\\sum_{l \\neq k}{exp(-||x_k-x_l||^2 / 2\\sigma^2}}}$$\n",
    "\n",
    "Finally, we symmetrize the conditionals \n",
    "\n",
    "$$p_{ij} = \\frac{p_{i|j} + p_{j|i}{2N}$$\n",
    "\n",
    "### Lower dimension\n",
    "In the lower dimensional space, we go with : \n",
    "$$q_{ij} = \\frac{(1 + ||y_i - y_j||^2)^-1}{} $$\n",
    "\n",
    "So here, $$p_{ij} should be similar to q_{ij}$$. We measure the distance between these distributions using \n",
    "$$KL(P||Q) = \\sum_{i}{\\sum_{j \\neq i}{p_{ij}log{\\frac{p_{ij}}{q_{ij}}}}}\n",
    "So basically, using a stochastic process, move the points around to minimize the KL measure above."
   ]
  }
 ],
 "metadata": {
  "kernelspec": {
   "display_name": "Python 3",
   "language": "python",
   "name": "python3"
  },
  "language_info": {
   "codemirror_mode": {
    "name": "ipython",
    "version": 3
   },
   "file_extension": ".py",
   "mimetype": "text/x-python",
   "name": "python",
   "nbconvert_exporter": "python",
   "pygments_lexer": "ipython3",
   "version": "3.6.1"
  }
 },
 "nbformat": 4,
 "nbformat_minor": 2
}
